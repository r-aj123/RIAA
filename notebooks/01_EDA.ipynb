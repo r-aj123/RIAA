{
 "cells": [
  {
   "cell_type": "code",
   "execution_count": null,
   "id": "bed1f772",
   "metadata": {},
   "outputs": [],
   "source": []
  },
  {
   "cell_type": "code",
   "execution_count": 7,
   "id": "c55566a2-5a46-446d-80e2-7da8115ae5c8",
   "metadata": {},
   "outputs": [],
   "source": [
    "import os\n",
    "import pandas as pd\n",
    "import numpy as np\n",
    "import matplotlib.pyplot as pl\n",
    "import seaborn as sns"
   ]
  },
  {
   "cell_type": "code",
   "execution_count": 8,
   "id": "7a2f2930-d93a-44f0-b380-6cf7503ad102",
   "metadata": {},
   "outputs": [
    {
     "data": {
      "text/html": [
       "<div>\n",
       "<style scoped>\n",
       "    .dataframe tbody tr th:only-of-type {\n",
       "        vertical-align: middle;\n",
       "    }\n",
       "\n",
       "    .dataframe tbody tr th {\n",
       "        vertical-align: top;\n",
       "    }\n",
       "\n",
       "    .dataframe thead th {\n",
       "        text-align: right;\n",
       "    }\n",
       "</style>\n",
       "<table border=\"1\" class=\"dataframe\">\n",
       "  <thead>\n",
       "    <tr style=\"text-align: right;\">\n",
       "      <th></th>\n",
       "      <th>InvoiceNo</th>\n",
       "      <th>StockCode</th>\n",
       "      <th>Description</th>\n",
       "      <th>Quantity</th>\n",
       "      <th>InvoiceDate</th>\n",
       "      <th>UnitPrice</th>\n",
       "      <th>CustomerID</th>\n",
       "      <th>Country</th>\n",
       "    </tr>\n",
       "  </thead>\n",
       "  <tbody>\n",
       "    <tr>\n",
       "      <th>0</th>\n",
       "      <td>536365</td>\n",
       "      <td>85123A</td>\n",
       "      <td>WHITE HANGING HEART T-LIGHT HOLDER</td>\n",
       "      <td>6</td>\n",
       "      <td>2010-12-01 08:26:00</td>\n",
       "      <td>2.55</td>\n",
       "      <td>17850.0</td>\n",
       "      <td>United Kingdom</td>\n",
       "    </tr>\n",
       "    <tr>\n",
       "      <th>1</th>\n",
       "      <td>536365</td>\n",
       "      <td>71053</td>\n",
       "      <td>WHITE METAL LANTERN</td>\n",
       "      <td>6</td>\n",
       "      <td>2010-12-01 08:26:00</td>\n",
       "      <td>3.39</td>\n",
       "      <td>17850.0</td>\n",
       "      <td>United Kingdom</td>\n",
       "    </tr>\n",
       "    <tr>\n",
       "      <th>2</th>\n",
       "      <td>536365</td>\n",
       "      <td>84406B</td>\n",
       "      <td>CREAM CUPID HEARTS COAT HANGER</td>\n",
       "      <td>8</td>\n",
       "      <td>2010-12-01 08:26:00</td>\n",
       "      <td>2.75</td>\n",
       "      <td>17850.0</td>\n",
       "      <td>United Kingdom</td>\n",
       "    </tr>\n",
       "    <tr>\n",
       "      <th>3</th>\n",
       "      <td>536365</td>\n",
       "      <td>84029G</td>\n",
       "      <td>KNITTED UNION FLAG HOT WATER BOTTLE</td>\n",
       "      <td>6</td>\n",
       "      <td>2010-12-01 08:26:00</td>\n",
       "      <td>3.39</td>\n",
       "      <td>17850.0</td>\n",
       "      <td>United Kingdom</td>\n",
       "    </tr>\n",
       "    <tr>\n",
       "      <th>4</th>\n",
       "      <td>536365</td>\n",
       "      <td>84029E</td>\n",
       "      <td>RED WOOLLY HOTTIE WHITE HEART.</td>\n",
       "      <td>6</td>\n",
       "      <td>2010-12-01 08:26:00</td>\n",
       "      <td>3.39</td>\n",
       "      <td>17850.0</td>\n",
       "      <td>United Kingdom</td>\n",
       "    </tr>\n",
       "  </tbody>\n",
       "</table>\n",
       "</div>"
      ],
      "text/plain": [
       "  InvoiceNo StockCode                          Description  Quantity  \\\n",
       "0    536365    85123A   WHITE HANGING HEART T-LIGHT HOLDER         6   \n",
       "1    536365     71053                  WHITE METAL LANTERN         6   \n",
       "2    536365    84406B       CREAM CUPID HEARTS COAT HANGER         8   \n",
       "3    536365    84029G  KNITTED UNION FLAG HOT WATER BOTTLE         6   \n",
       "4    536365    84029E       RED WOOLLY HOTTIE WHITE HEART.         6   \n",
       "\n",
       "          InvoiceDate  UnitPrice  CustomerID         Country  \n",
       "0 2010-12-01 08:26:00       2.55     17850.0  United Kingdom  \n",
       "1 2010-12-01 08:26:00       3.39     17850.0  United Kingdom  \n",
       "2 2010-12-01 08:26:00       2.75     17850.0  United Kingdom  \n",
       "3 2010-12-01 08:26:00       3.39     17850.0  United Kingdom  \n",
       "4 2010-12-01 08:26:00       3.39     17850.0  United Kingdom  "
      ]
     },
     "execution_count": 8,
     "metadata": {},
     "output_type": "execute_result"
    }
   ],
   "source": [
    "base_dir = os.getcwd()  \n",
    "data_path = os.path.join(base_dir, \"..\", \"data\", \"OnlineRetail.xlsx\")\n",
    "data_path = os.path.abspath(data_path) \n",
    "data = pd.read_excel(data_path)\n",
    "data.head()\n"
   ]
  },
  {
   "cell_type": "code",
   "execution_count": 9,
   "id": "dd28e5cf-a42e-4c81-984c-7c38218390b4",
   "metadata": {},
   "outputs": [
    {
     "data": {
      "text/plain": [
       "InvoiceNo           0\n",
       "StockCode           0\n",
       "Description      1454\n",
       "Quantity            0\n",
       "InvoiceDate         0\n",
       "UnitPrice           0\n",
       "CustomerID     135080\n",
       "Country             0\n",
       "dtype: int64"
      ]
     },
     "execution_count": 9,
     "metadata": {},
     "output_type": "execute_result"
    }
   ],
   "source": [
    "data.isnull().sum()"
   ]
  },
  {
   "cell_type": "code",
   "execution_count": 10,
   "id": "6deaf404-5033-4080-a0b8-59f435e8a536",
   "metadata": {},
   "outputs": [],
   "source": [
    "dataset = data.sample(n=10000, random_state=43)"
   ]
  },
  {
   "cell_type": "code",
   "execution_count": 11,
   "id": "a0459698-accf-45fc-9a3b-6a0c26814ed0",
   "metadata": {},
   "outputs": [
    {
     "data": {
      "text/html": [
       "<div>\n",
       "<style scoped>\n",
       "    .dataframe tbody tr th:only-of-type {\n",
       "        vertical-align: middle;\n",
       "    }\n",
       "\n",
       "    .dataframe tbody tr th {\n",
       "        vertical-align: top;\n",
       "    }\n",
       "\n",
       "    .dataframe thead th {\n",
       "        text-align: right;\n",
       "    }\n",
       "</style>\n",
       "<table border=\"1\" class=\"dataframe\">\n",
       "  <thead>\n",
       "    <tr style=\"text-align: right;\">\n",
       "      <th></th>\n",
       "      <th>InvoiceNo</th>\n",
       "      <th>StockCode</th>\n",
       "      <th>Description</th>\n",
       "      <th>Quantity</th>\n",
       "      <th>InvoiceDate</th>\n",
       "      <th>UnitPrice</th>\n",
       "      <th>CustomerID</th>\n",
       "      <th>Country</th>\n",
       "    </tr>\n",
       "  </thead>\n",
       "  <tbody>\n",
       "    <tr>\n",
       "      <th>301077</th>\n",
       "      <td>563238</td>\n",
       "      <td>22679</td>\n",
       "      <td>FRENCH BLUE METAL DOOR SIGN 4</td>\n",
       "      <td>10</td>\n",
       "      <td>2011-08-15 09:59:00</td>\n",
       "      <td>1.25</td>\n",
       "      <td>15093.0</td>\n",
       "      <td>United Kingdom</td>\n",
       "    </tr>\n",
       "    <tr>\n",
       "      <th>194283</th>\n",
       "      <td>553566</td>\n",
       "      <td>22699</td>\n",
       "      <td>ROSES REGENCY TEACUP AND SAUCER</td>\n",
       "      <td>12</td>\n",
       "      <td>2011-05-18 09:09:00</td>\n",
       "      <td>2.95</td>\n",
       "      <td>12690.0</td>\n",
       "      <td>France</td>\n",
       "    </tr>\n",
       "    <tr>\n",
       "      <th>114781</th>\n",
       "      <td>546084</td>\n",
       "      <td>22303</td>\n",
       "      <td>COFFEE MUG APPLES DESIGN</td>\n",
       "      <td>6</td>\n",
       "      <td>2011-03-09 11:28:00</td>\n",
       "      <td>2.55</td>\n",
       "      <td>14112.0</td>\n",
       "      <td>United Kingdom</td>\n",
       "    </tr>\n",
       "    <tr>\n",
       "      <th>412939</th>\n",
       "      <td>572302</td>\n",
       "      <td>23533</td>\n",
       "      <td>WALL ART GARDEN HAVEN</td>\n",
       "      <td>1</td>\n",
       "      <td>2011-10-23 14:47:00</td>\n",
       "      <td>5.95</td>\n",
       "      <td>15427.0</td>\n",
       "      <td>United Kingdom</td>\n",
       "    </tr>\n",
       "    <tr>\n",
       "      <th>245393</th>\n",
       "      <td>558614</td>\n",
       "      <td>22993</td>\n",
       "      <td>SET OF 4 PANTRY JELLY MOULDS</td>\n",
       "      <td>3</td>\n",
       "      <td>2011-06-30 15:56:00</td>\n",
       "      <td>2.46</td>\n",
       "      <td>NaN</td>\n",
       "      <td>United Kingdom</td>\n",
       "    </tr>\n",
       "  </tbody>\n",
       "</table>\n",
       "</div>"
      ],
      "text/plain": [
       "       InvoiceNo StockCode                       Description  Quantity  \\\n",
       "301077    563238     22679     FRENCH BLUE METAL DOOR SIGN 4        10   \n",
       "194283    553566     22699  ROSES REGENCY TEACUP AND SAUCER         12   \n",
       "114781    546084     22303          COFFEE MUG APPLES DESIGN         6   \n",
       "412939    572302     23533            WALL ART GARDEN HAVEN          1   \n",
       "245393    558614     22993      SET OF 4 PANTRY JELLY MOULDS         3   \n",
       "\n",
       "               InvoiceDate  UnitPrice  CustomerID         Country  \n",
       "301077 2011-08-15 09:59:00       1.25     15093.0  United Kingdom  \n",
       "194283 2011-05-18 09:09:00       2.95     12690.0          France  \n",
       "114781 2011-03-09 11:28:00       2.55     14112.0  United Kingdom  \n",
       "412939 2011-10-23 14:47:00       5.95     15427.0  United Kingdom  \n",
       "245393 2011-06-30 15:56:00       2.46         NaN  United Kingdom  "
      ]
     },
     "execution_count": 11,
     "metadata": {},
     "output_type": "execute_result"
    }
   ],
   "source": [
    "dataset.head()"
   ]
  },
  {
   "cell_type": "code",
   "execution_count": 12,
   "id": "59c964b1-dd9c-4dac-a813-df20062da291",
   "metadata": {},
   "outputs": [
    {
     "data": {
      "text/plain": [
       "InvoiceNo         0\n",
       "StockCode         0\n",
       "Description      17\n",
       "Quantity          0\n",
       "InvoiceDate       0\n",
       "UnitPrice         0\n",
       "CustomerID     2540\n",
       "Country           0\n",
       "dtype: int64"
      ]
     },
     "execution_count": 12,
     "metadata": {},
     "output_type": "execute_result"
    }
   ],
   "source": [
    "dataset.isnull().sum()"
   ]
  },
  {
   "cell_type": "code",
   "execution_count": 13,
   "id": "e3e25317-6c99-4603-93a6-6c073ec5a038",
   "metadata": {},
   "outputs": [],
   "source": [
    "dataset['Description'] = dataset['Description'].fillna(dataset['Description'].mode()[0])\n"
   ]
  },
  {
   "cell_type": "code",
   "execution_count": 14,
   "id": "96b96b5d-9e33-4666-9035-1f2095aa0fbf",
   "metadata": {},
   "outputs": [
    {
     "data": {
      "text/plain": [
       "1"
      ]
     },
     "execution_count": 14,
     "metadata": {},
     "output_type": "execute_result"
    }
   ],
   "source": [
    "dataset.duplicated().sum()"
   ]
  },
  {
   "cell_type": "code",
   "execution_count": 15,
   "id": "394e7ec7-eec6-428e-9505-7d6889611ff7",
   "metadata": {},
   "outputs": [],
   "source": [
    "dataset.drop_duplicates(inplace=True)"
   ]
  },
  {
   "cell_type": "code",
   "execution_count": 16,
   "id": "958ec550-5b58-4d09-8f1a-0b40bced4b43",
   "metadata": {},
   "outputs": [],
   "source": [
    "dataset.dropna(inplace=True)"
   ]
  },
  {
   "cell_type": "code",
   "execution_count": 17,
   "id": "6bdcf036-cb95-40ee-a281-c3feb874b757",
   "metadata": {},
   "outputs": [
    {
     "data": {
      "text/plain": [
       "InvoiceNo      0\n",
       "StockCode      0\n",
       "Description    0\n",
       "Quantity       0\n",
       "InvoiceDate    0\n",
       "UnitPrice      0\n",
       "CustomerID     0\n",
       "Country        0\n",
       "dtype: int64"
      ]
     },
     "execution_count": 17,
     "metadata": {},
     "output_type": "execute_result"
    }
   ],
   "source": [
    "dataset.isnull().sum()"
   ]
  },
  {
   "cell_type": "code",
   "execution_count": 18,
   "id": "abd756e5-7084-4f28-ae74-0942c05d321d",
   "metadata": {},
   "outputs": [
    {
     "data": {
      "text/plain": [
       "7459"
      ]
     },
     "execution_count": 18,
     "metadata": {},
     "output_type": "execute_result"
    }
   ],
   "source": [
    "len(dataset)"
   ]
  },
  {
   "cell_type": "code",
   "execution_count": 19,
   "id": "41e58be1-6f49-411e-9bd2-af981715a136",
   "metadata": {},
   "outputs": [
    {
     "data": {
      "text/plain": [
       "dtype('O')"
      ]
     },
     "execution_count": 19,
     "metadata": {},
     "output_type": "execute_result"
    }
   ],
   "source": [
    "dataset['InvoiceNo'].dtypes"
   ]
  },
  {
   "cell_type": "code",
   "execution_count": 20,
   "id": "37555abc-5c7b-46c1-aaa3-80ba3de42c2b",
   "metadata": {},
   "outputs": [
    {
     "data": {
      "text/html": [
       "<div>\n",
       "<style scoped>\n",
       "    .dataframe tbody tr th:only-of-type {\n",
       "        vertical-align: middle;\n",
       "    }\n",
       "\n",
       "    .dataframe tbody tr th {\n",
       "        vertical-align: top;\n",
       "    }\n",
       "\n",
       "    .dataframe thead th {\n",
       "        text-align: right;\n",
       "    }\n",
       "</style>\n",
       "<table border=\"1\" class=\"dataframe\">\n",
       "  <thead>\n",
       "    <tr style=\"text-align: right;\">\n",
       "      <th></th>\n",
       "      <th>Quantity</th>\n",
       "      <th>InvoiceDate</th>\n",
       "      <th>UnitPrice</th>\n",
       "      <th>CustomerID</th>\n",
       "    </tr>\n",
       "  </thead>\n",
       "  <tbody>\n",
       "    <tr>\n",
       "      <th>count</th>\n",
       "      <td>7459.000000</td>\n",
       "      <td>7459</td>\n",
       "      <td>7459.000000</td>\n",
       "      <td>7459.000000</td>\n",
       "    </tr>\n",
       "    <tr>\n",
       "      <th>mean</th>\n",
       "      <td>12.289985</td>\n",
       "      <td>2011-07-10 17:32:50.274835712</td>\n",
       "      <td>3.049862</td>\n",
       "      <td>15288.858962</td>\n",
       "    </tr>\n",
       "    <tr>\n",
       "      <th>min</th>\n",
       "      <td>-360.000000</td>\n",
       "      <td>2010-12-01 09:37:00</td>\n",
       "      <td>0.000000</td>\n",
       "      <td>12347.000000</td>\n",
       "    </tr>\n",
       "    <tr>\n",
       "      <th>25%</th>\n",
       "      <td>2.000000</td>\n",
       "      <td>2011-04-07 12:00:30</td>\n",
       "      <td>1.250000</td>\n",
       "      <td>13921.000000</td>\n",
       "    </tr>\n",
       "    <tr>\n",
       "      <th>50%</th>\n",
       "      <td>5.000000</td>\n",
       "      <td>2011-07-29 08:29:00</td>\n",
       "      <td>1.950000</td>\n",
       "      <td>15179.000000</td>\n",
       "    </tr>\n",
       "    <tr>\n",
       "      <th>75%</th>\n",
       "      <td>12.000000</td>\n",
       "      <td>2011-10-20 10:41:00</td>\n",
       "      <td>3.750000</td>\n",
       "      <td>16772.500000</td>\n",
       "    </tr>\n",
       "    <tr>\n",
       "      <th>max</th>\n",
       "      <td>1008.000000</td>\n",
       "      <td>2011-12-09 12:50:00</td>\n",
       "      <td>611.860000</td>\n",
       "      <td>18283.000000</td>\n",
       "    </tr>\n",
       "    <tr>\n",
       "      <th>std</th>\n",
       "      <td>35.546607</td>\n",
       "      <td>NaN</td>\n",
       "      <td>8.508609</td>\n",
       "      <td>1707.058775</td>\n",
       "    </tr>\n",
       "  </tbody>\n",
       "</table>\n",
       "</div>"
      ],
      "text/plain": [
       "          Quantity                    InvoiceDate    UnitPrice    CustomerID\n",
       "count  7459.000000                           7459  7459.000000   7459.000000\n",
       "mean     12.289985  2011-07-10 17:32:50.274835712     3.049862  15288.858962\n",
       "min    -360.000000            2010-12-01 09:37:00     0.000000  12347.000000\n",
       "25%       2.000000            2011-04-07 12:00:30     1.250000  13921.000000\n",
       "50%       5.000000            2011-07-29 08:29:00     1.950000  15179.000000\n",
       "75%      12.000000            2011-10-20 10:41:00     3.750000  16772.500000\n",
       "max    1008.000000            2011-12-09 12:50:00   611.860000  18283.000000\n",
       "std      35.546607                            NaN     8.508609   1707.058775"
      ]
     },
     "execution_count": 20,
     "metadata": {},
     "output_type": "execute_result"
    }
   ],
   "source": [
    "dataset.describe()"
   ]
  },
  {
   "cell_type": "code",
   "execution_count": 21,
   "id": "ec987cfc-ae1c-48d3-805d-77df3eab1dfe",
   "metadata": {},
   "outputs": [
    {
     "name": "stdout",
     "output_type": "stream",
     "text": [
      "<class 'pandas.core.frame.DataFrame'>\n",
      "Index: 7459 entries, 301077 to 456763\n",
      "Data columns (total 8 columns):\n",
      " #   Column       Non-Null Count  Dtype         \n",
      "---  ------       --------------  -----         \n",
      " 0   InvoiceNo    7459 non-null   object        \n",
      " 1   StockCode    7459 non-null   object        \n",
      " 2   Description  7459 non-null   object        \n",
      " 3   Quantity     7459 non-null   int64         \n",
      " 4   InvoiceDate  7459 non-null   datetime64[ns]\n",
      " 5   UnitPrice    7459 non-null   float64       \n",
      " 6   CustomerID   7459 non-null   float64       \n",
      " 7   Country      7459 non-null   object        \n",
      "dtypes: datetime64[ns](1), float64(2), int64(1), object(4)\n",
      "memory usage: 524.5+ KB\n"
     ]
    }
   ],
   "source": [
    "dataset.info()"
   ]
  },
  {
   "cell_type": "code",
   "execution_count": 22,
   "id": "62e60954-b443-4bf7-9f3a-6bce10218a51",
   "metadata": {},
   "outputs": [],
   "source": [
    "dataset = dataset[~dataset['InvoiceNo'].astype(str).str.startswith('C')]\n",
    "\n",
    "    "
   ]
  },
  {
   "cell_type": "code",
   "execution_count": 23,
   "id": "8ce021f1-02f2-4186-a7f7-452457a86a7b",
   "metadata": {},
   "outputs": [
    {
     "data": {
      "text/plain": [
       "7287"
      ]
     },
     "execution_count": 23,
     "metadata": {},
     "output_type": "execute_result"
    }
   ],
   "source": [
    "len(dataset)"
   ]
  },
  {
   "cell_type": "code",
   "execution_count": 24,
   "id": "286b5a9f-07a4-4a5d-bdf1-35d08851b757",
   "metadata": {},
   "outputs": [],
   "source": [
    "dataset['InvoiceNo']=dataset['InvoiceNo'].astype('int64')"
   ]
  },
  {
   "cell_type": "code",
   "execution_count": 25,
   "id": "7d579952-6d00-476f-9ed6-41f17fec120d",
   "metadata": {},
   "outputs": [
    {
     "name": "stdout",
     "output_type": "stream",
     "text": [
      "<class 'pandas.core.frame.DataFrame'>\n",
      "Index: 7287 entries, 301077 to 456763\n",
      "Data columns (total 8 columns):\n",
      " #   Column       Non-Null Count  Dtype         \n",
      "---  ------       --------------  -----         \n",
      " 0   InvoiceNo    7287 non-null   int64         \n",
      " 1   StockCode    7287 non-null   object        \n",
      " 2   Description  7287 non-null   object        \n",
      " 3   Quantity     7287 non-null   int64         \n",
      " 4   InvoiceDate  7287 non-null   datetime64[ns]\n",
      " 5   UnitPrice    7287 non-null   float64       \n",
      " 6   CustomerID   7287 non-null   float64       \n",
      " 7   Country      7287 non-null   object        \n",
      "dtypes: datetime64[ns](1), float64(2), int64(2), object(3)\n",
      "memory usage: 512.4+ KB\n"
     ]
    }
   ],
   "source": [
    "dataset.info()"
   ]
  },
  {
   "cell_type": "code",
   "execution_count": 26,
   "id": "5471fe81-d8c5-49e9-a4a2-5590a8b6f629",
   "metadata": {},
   "outputs": [],
   "source": [
    "dataset['Total_amount']=dataset['UnitPrice']*dataset['Quantity']"
   ]
  },
  {
   "cell_type": "code",
   "execution_count": 27,
   "id": "b20ebeb0-624a-46b1-be82-66976ca9e93c",
   "metadata": {},
   "outputs": [
    {
     "data": {
      "text/html": [
       "<div>\n",
       "<style scoped>\n",
       "    .dataframe tbody tr th:only-of-type {\n",
       "        vertical-align: middle;\n",
       "    }\n",
       "\n",
       "    .dataframe tbody tr th {\n",
       "        vertical-align: top;\n",
       "    }\n",
       "\n",
       "    .dataframe thead th {\n",
       "        text-align: right;\n",
       "    }\n",
       "</style>\n",
       "<table border=\"1\" class=\"dataframe\">\n",
       "  <thead>\n",
       "    <tr style=\"text-align: right;\">\n",
       "      <th></th>\n",
       "      <th>InvoiceNo</th>\n",
       "      <th>StockCode</th>\n",
       "      <th>Description</th>\n",
       "      <th>Quantity</th>\n",
       "      <th>InvoiceDate</th>\n",
       "      <th>UnitPrice</th>\n",
       "      <th>CustomerID</th>\n",
       "      <th>Country</th>\n",
       "      <th>Total_amount</th>\n",
       "    </tr>\n",
       "  </thead>\n",
       "  <tbody>\n",
       "    <tr>\n",
       "      <th>301077</th>\n",
       "      <td>563238</td>\n",
       "      <td>22679</td>\n",
       "      <td>FRENCH BLUE METAL DOOR SIGN 4</td>\n",
       "      <td>10</td>\n",
       "      <td>2011-08-15 09:59:00</td>\n",
       "      <td>1.25</td>\n",
       "      <td>15093.0</td>\n",
       "      <td>United Kingdom</td>\n",
       "      <td>12.50</td>\n",
       "    </tr>\n",
       "    <tr>\n",
       "      <th>194283</th>\n",
       "      <td>553566</td>\n",
       "      <td>22699</td>\n",
       "      <td>ROSES REGENCY TEACUP AND SAUCER</td>\n",
       "      <td>12</td>\n",
       "      <td>2011-05-18 09:09:00</td>\n",
       "      <td>2.95</td>\n",
       "      <td>12690.0</td>\n",
       "      <td>France</td>\n",
       "      <td>35.40</td>\n",
       "    </tr>\n",
       "    <tr>\n",
       "      <th>114781</th>\n",
       "      <td>546084</td>\n",
       "      <td>22303</td>\n",
       "      <td>COFFEE MUG APPLES DESIGN</td>\n",
       "      <td>6</td>\n",
       "      <td>2011-03-09 11:28:00</td>\n",
       "      <td>2.55</td>\n",
       "      <td>14112.0</td>\n",
       "      <td>United Kingdom</td>\n",
       "      <td>15.30</td>\n",
       "    </tr>\n",
       "    <tr>\n",
       "      <th>412939</th>\n",
       "      <td>572302</td>\n",
       "      <td>23533</td>\n",
       "      <td>WALL ART GARDEN HAVEN</td>\n",
       "      <td>1</td>\n",
       "      <td>2011-10-23 14:47:00</td>\n",
       "      <td>5.95</td>\n",
       "      <td>15427.0</td>\n",
       "      <td>United Kingdom</td>\n",
       "      <td>5.95</td>\n",
       "    </tr>\n",
       "    <tr>\n",
       "      <th>284224</th>\n",
       "      <td>561867</td>\n",
       "      <td>23204</td>\n",
       "      <td>CHARLOTTE BAG APPLES DESIGN</td>\n",
       "      <td>3</td>\n",
       "      <td>2011-07-31 10:59:00</td>\n",
       "      <td>0.85</td>\n",
       "      <td>16931.0</td>\n",
       "      <td>United Kingdom</td>\n",
       "      <td>2.55</td>\n",
       "    </tr>\n",
       "    <tr>\n",
       "      <th>...</th>\n",
       "      <td>...</td>\n",
       "      <td>...</td>\n",
       "      <td>...</td>\n",
       "      <td>...</td>\n",
       "      <td>...</td>\n",
       "      <td>...</td>\n",
       "      <td>...</td>\n",
       "      <td>...</td>\n",
       "      <td>...</td>\n",
       "    </tr>\n",
       "    <tr>\n",
       "      <th>513353</th>\n",
       "      <td>579549</td>\n",
       "      <td>84347</td>\n",
       "      <td>ROTATING SILVER ANGELS T-LIGHT HLDR</td>\n",
       "      <td>6</td>\n",
       "      <td>2011-11-30 10:45:00</td>\n",
       "      <td>2.55</td>\n",
       "      <td>13203.0</td>\n",
       "      <td>United Kingdom</td>\n",
       "      <td>15.30</td>\n",
       "    </tr>\n",
       "    <tr>\n",
       "      <th>347510</th>\n",
       "      <td>567306</td>\n",
       "      <td>22090</td>\n",
       "      <td>PAPER BUNTING RETROSPOT</td>\n",
       "      <td>40</td>\n",
       "      <td>2011-09-19 13:32:00</td>\n",
       "      <td>2.55</td>\n",
       "      <td>12752.0</td>\n",
       "      <td>Norway</td>\n",
       "      <td>102.00</td>\n",
       "    </tr>\n",
       "    <tr>\n",
       "      <th>438054</th>\n",
       "      <td>574304</td>\n",
       "      <td>85099F</td>\n",
       "      <td>JUMBO BAG STRAWBERRY</td>\n",
       "      <td>1</td>\n",
       "      <td>2011-11-03 16:30:00</td>\n",
       "      <td>2.08</td>\n",
       "      <td>14428.0</td>\n",
       "      <td>United Kingdom</td>\n",
       "      <td>2.08</td>\n",
       "    </tr>\n",
       "    <tr>\n",
       "      <th>281428</th>\n",
       "      <td>561519</td>\n",
       "      <td>22549</td>\n",
       "      <td>PICTURE DOMINOES</td>\n",
       "      <td>1</td>\n",
       "      <td>2011-07-27 17:01:00</td>\n",
       "      <td>1.45</td>\n",
       "      <td>17870.0</td>\n",
       "      <td>United Kingdom</td>\n",
       "      <td>1.45</td>\n",
       "    </tr>\n",
       "    <tr>\n",
       "      <th>456763</th>\n",
       "      <td>575710</td>\n",
       "      <td>23320</td>\n",
       "      <td>GIANT 50'S CHRISTMAS CRACKER</td>\n",
       "      <td>2</td>\n",
       "      <td>2011-11-10 17:29:00</td>\n",
       "      <td>2.89</td>\n",
       "      <td>17901.0</td>\n",
       "      <td>United Kingdom</td>\n",
       "      <td>5.78</td>\n",
       "    </tr>\n",
       "  </tbody>\n",
       "</table>\n",
       "<p>7287 rows × 9 columns</p>\n",
       "</div>"
      ],
      "text/plain": [
       "        InvoiceNo StockCode                          Description  Quantity  \\\n",
       "301077     563238     22679        FRENCH BLUE METAL DOOR SIGN 4        10   \n",
       "194283     553566     22699     ROSES REGENCY TEACUP AND SAUCER         12   \n",
       "114781     546084     22303             COFFEE MUG APPLES DESIGN         6   \n",
       "412939     572302     23533               WALL ART GARDEN HAVEN          1   \n",
       "284224     561867     23204          CHARLOTTE BAG APPLES DESIGN         3   \n",
       "...           ...       ...                                  ...       ...   \n",
       "513353     579549     84347  ROTATING SILVER ANGELS T-LIGHT HLDR         6   \n",
       "347510     567306     22090              PAPER BUNTING RETROSPOT        40   \n",
       "438054     574304    85099F                 JUMBO BAG STRAWBERRY         1   \n",
       "281428     561519     22549                     PICTURE DOMINOES         1   \n",
       "456763     575710     23320         GIANT 50'S CHRISTMAS CRACKER         2   \n",
       "\n",
       "               InvoiceDate  UnitPrice  CustomerID         Country  \\\n",
       "301077 2011-08-15 09:59:00       1.25     15093.0  United Kingdom   \n",
       "194283 2011-05-18 09:09:00       2.95     12690.0          France   \n",
       "114781 2011-03-09 11:28:00       2.55     14112.0  United Kingdom   \n",
       "412939 2011-10-23 14:47:00       5.95     15427.0  United Kingdom   \n",
       "284224 2011-07-31 10:59:00       0.85     16931.0  United Kingdom   \n",
       "...                    ...        ...         ...             ...   \n",
       "513353 2011-11-30 10:45:00       2.55     13203.0  United Kingdom   \n",
       "347510 2011-09-19 13:32:00       2.55     12752.0          Norway   \n",
       "438054 2011-11-03 16:30:00       2.08     14428.0  United Kingdom   \n",
       "281428 2011-07-27 17:01:00       1.45     17870.0  United Kingdom   \n",
       "456763 2011-11-10 17:29:00       2.89     17901.0  United Kingdom   \n",
       "\n",
       "        Total_amount  \n",
       "301077         12.50  \n",
       "194283         35.40  \n",
       "114781         15.30  \n",
       "412939          5.95  \n",
       "284224          2.55  \n",
       "...              ...  \n",
       "513353         15.30  \n",
       "347510        102.00  \n",
       "438054          2.08  \n",
       "281428          1.45  \n",
       "456763          5.78  \n",
       "\n",
       "[7287 rows x 9 columns]"
      ]
     },
     "execution_count": 27,
     "metadata": {},
     "output_type": "execute_result"
    }
   ],
   "source": [
    "dataset"
   ]
  },
  {
   "cell_type": "markdown",
   "id": "dcbf6d6c-e0fe-4119-a62a-93a06d7cf3c7",
   "metadata": {},
   "source": [
    "MOST SELLED PRODUCT"
   ]
  },
  {
   "cell_type": "code",
   "execution_count": 28,
   "id": "febf9285-18d5-49c9-91b4-7c600f673d13",
   "metadata": {},
   "outputs": [
    {
     "data": {
      "image/png": "[encoded data removed]",
      "text/plain": [
       "<Figure size 1200x600 with 1 Axes>"
      ]
     },
     "metadata": {},
     "output_type": "display_data"
    }
   ],
   "source": [
    "grouped = dataset.groupby('Description')['Quantity'].sum()\n",
    "\n",
    "pl.figure(figsize=(12, 6))  \n",
    "\n",
    "pl.xticks(rotation=90)  \n",
    "pl.xlabel('Description')\n",
    "pl.ylabel('Total Quantity')\n",
    "pl.title('Total Quantity per Description')\n",
    "pl.tight_layout()\n",
    "top_descriptions = grouped.sort_values(ascending=False).head(10)\n",
    "colors = pl.cm.tab10(range(len(top_descriptions)))\n",
    "\n",
    "\n",
    "pl.bar(top_descriptions.index, top_descriptions.values, color=colors)\n",
    "pl.show()"
   ]
  },
  {
   "cell_type": "markdown",
   "id": "036450a0-4005-433d-a7e5-47fd4438015f",
   "metadata": {},
   "source": [
    "TOP SPENDING BY CUSTOMERS"
   ]
  },
  {
   "cell_type": "code",
   "execution_count": 29,
   "id": "5438916a-91c5-4d9c-a114-a6c252f43296",
   "metadata": {},
   "outputs": [
    {
     "data": {
      "image/png": "[encoded data removed]",
      "text/plain": [
       "<Figure size 1200x600 with 1 Axes>"
      ]
     },
     "metadata": {},
     "output_type": "display_data"
    }
   ],
   "source": [
    "grouped = dataset.groupby('CustomerID')['Total_amount'].sum()\n",
    "\n",
    "# Get top 10 customers by total spending\n",
    "top_Customers = grouped.sort_values(ascending=False).head(10)\n",
    "\n",
    "# Generate colors for each bar (using tab10 colormap)\n",
    "colors = pl.cm.tab10(range(len(top_Customers)))\n",
    "\n",
    "# Plotting\n",
    "pl.figure(figsize=(12, 6))\n",
    "pl.barh(top_Customers.index.astype(str), top_Customers.values, color=colors)\n",
    "pl.xticks(rotation=90)\n",
    "pl.ylabel('Customer ID')\n",
    "pl.xlabel('Total Amount')\n",
    "pl.title('Top 10 Customers by Total Spending')\n",
    "pl.tight_layout()\n",
    "pl.show()"
   ]
  },
  {
   "cell_type": "code",
   "execution_count": 30,
   "id": "3772182c-2a0e-4979-9d59-5318c18567c8",
   "metadata": {},
   "outputs": [
    {
     "data": {
      "image/png": "[encoded data removed]",
      "text/plain": [
       "<Figure size 1200x600 with 1 Axes>"
      ]
     },
     "metadata": {},
     "output_type": "display_data"
    }
   ],
   "source": [
    "dataset['InvoiceYearMonth'] = dataset['InvoiceDate'].dt.to_period('M')\n",
    "monthly_revenue = dataset.groupby('InvoiceYearMonth')['Total_amount'].sum().reset_index()\n",
    "monthly_revenue['InvoiceYearMonth'] = monthly_revenue['InvoiceYearMonth'].astype(str)\n",
    "\n",
    "pl.figure(figsize=(12,6))\n",
    "sns.lineplot(data=monthly_revenue, x='InvoiceYearMonth', y='Total_amount', marker='o')\n",
    "pl.xticks(rotation=45)\n",
    "pl.title('Monthly Revenue Trend')\n",
    "pl.xlabel('Month')\n",
    "pl.ylabel('Revenue')\n",
    "pl.tight_layout()\n",
    "pl.show()"
   ]
  },
  {
   "cell_type": "code",
   "execution_count": 31,
   "id": "da5c9d10-4ce4-4c4e-8c0b-ea17b1596c9a",
   "metadata": {},
   "outputs": [
    {
     "ename": "OSError",
     "evalue": "Cannot save file into a non-existent directory: 'C:\\Users\\student\\Desktop\\RIAA-1\\data'",
     "output_type": "error",
     "traceback": [
      "\u001b[1;31m---------------------------------------------------------------------------\u001b[0m",
      "\u001b[1;31mOSError\u001b[0m                                   Traceback (most recent call last)",
      "Cell \u001b[1;32mIn[31], line 1\u001b[0m\n\u001b[1;32m----> 1\u001b[0m \u001b[43mdataset\u001b[49m\u001b[38;5;241;43m.\u001b[39;49m\u001b[43mto_excel\u001b[49m\u001b[43m(\u001b[49m\u001b[38;5;124;43mr\u001b[39;49m\u001b[38;5;124;43m'\u001b[39;49m\u001b[38;5;124;43mC:\u001b[39;49m\u001b[38;5;124;43m\\\u001b[39;49m\u001b[38;5;124;43mUsers\u001b[39;49m\u001b[38;5;124;43m\\\u001b[39;49m\u001b[38;5;124;43mstudent\u001b[39;49m\u001b[38;5;124;43m\\\u001b[39;49m\u001b[38;5;124;43mDesktop\u001b[39;49m\u001b[38;5;124;43m\\\u001b[39;49m\u001b[38;5;124;43mRIAA-1\u001b[39;49m\u001b[38;5;124;43m\\\u001b[39;49m\u001b[38;5;124;43mdata\u001b[39;49m\u001b[38;5;124;43m\\\u001b[39;49m\u001b[38;5;124;43mcleaned_dataset.xlsx\u001b[39;49m\u001b[38;5;124;43m'\u001b[39;49m\u001b[43m)\u001b[49m\n",
      "File \u001b[1;32mc:\\Users\\atuls\\AppData\\Local\\Programs\\Python\\Python310\\lib\\site-packages\\pandas\\util\\_decorators.py:333\u001b[0m, in \u001b[0;36mdeprecate_nonkeyword_arguments.<locals>.decorate.<locals>.wrapper\u001b[1;34m(*args, **kwargs)\u001b[0m\n\u001b[0;32m    327\u001b[0m \u001b[38;5;28;01mif\u001b[39;00m \u001b[38;5;28mlen\u001b[39m(args) \u001b[38;5;241m>\u001b[39m num_allow_args:\n\u001b[0;32m    328\u001b[0m     warnings\u001b[38;5;241m.\u001b[39mwarn(\n\u001b[0;32m    329\u001b[0m         msg\u001b[38;5;241m.\u001b[39mformat(arguments\u001b[38;5;241m=\u001b[39m_format_argument_list(allow_args)),\n\u001b[0;32m    330\u001b[0m         \u001b[38;5;167;01mFutureWarning\u001b[39;00m,\n\u001b[0;32m    331\u001b[0m         stacklevel\u001b[38;5;241m=\u001b[39mfind_stack_level(),\n\u001b[0;32m    332\u001b[0m     )\n\u001b[1;32m--> 333\u001b[0m \u001b[38;5;28;01mreturn\u001b[39;00m func(\u001b[38;5;241m*\u001b[39margs, \u001b[38;5;241m*\u001b[39m\u001b[38;5;241m*\u001b[39mkwargs)\n",
      "File \u001b[1;32mc:\\Users\\atuls\\AppData\\Local\\Programs\\Python\\Python310\\lib\\site-packages\\pandas\\core\\generic.py:2417\u001b[0m, in \u001b[0;36mNDFrame.to_excel\u001b[1;34m(self, excel_writer, sheet_name, na_rep, float_format, columns, header, index, index_label, startrow, startcol, engine, merge_cells, inf_rep, freeze_panes, storage_options, engine_kwargs)\u001b[0m\n\u001b[0;32m   2404\u001b[0m \u001b[38;5;28;01mfrom\u001b[39;00m\u001b[38;5;250m \u001b[39m\u001b[38;5;21;01mpandas\u001b[39;00m\u001b[38;5;21;01m.\u001b[39;00m\u001b[38;5;21;01mio\u001b[39;00m\u001b[38;5;21;01m.\u001b[39;00m\u001b[38;5;21;01mformats\u001b[39;00m\u001b[38;5;21;01m.\u001b[39;00m\u001b[38;5;21;01mexcel\u001b[39;00m\u001b[38;5;250m \u001b[39m\u001b[38;5;28;01mimport\u001b[39;00m ExcelFormatter\n\u001b[0;32m   2406\u001b[0m formatter \u001b[38;5;241m=\u001b[39m ExcelFormatter(\n\u001b[0;32m   2407\u001b[0m     df,\n\u001b[0;32m   2408\u001b[0m     na_rep\u001b[38;5;241m=\u001b[39mna_rep,\n\u001b[1;32m   (...)\u001b[0m\n\u001b[0;32m   2415\u001b[0m     inf_rep\u001b[38;5;241m=\u001b[39minf_rep,\n\u001b[0;32m   2416\u001b[0m )\n\u001b[1;32m-> 2417\u001b[0m \u001b[43mformatter\u001b[49m\u001b[38;5;241;43m.\u001b[39;49m\u001b[43mwrite\u001b[49m\u001b[43m(\u001b[49m\n\u001b[0;32m   2418\u001b[0m \u001b[43m    \u001b[49m\u001b[43mexcel_writer\u001b[49m\u001b[43m,\u001b[49m\n\u001b[0;32m   2419\u001b[0m \u001b[43m    \u001b[49m\u001b[43msheet_name\u001b[49m\u001b[38;5;241;43m=\u001b[39;49m\u001b[43msheet_name\u001b[49m\u001b[43m,\u001b[49m\n\u001b[0;32m   2420\u001b[0m \u001b[43m    \u001b[49m\u001b[43mstartrow\u001b[49m\u001b[38;5;241;43m=\u001b[39;49m\u001b[43mstartrow\u001b[49m\u001b[43m,\u001b[49m\n\u001b[0;32m   2421\u001b[0m \u001b[43m    \u001b[49m\u001b[43mstartcol\u001b[49m\u001b[38;5;241;43m=\u001b[39;49m\u001b[43mstartcol\u001b[49m\u001b[43m,\u001b[49m\n\u001b[0;32m   2422\u001b[0m \u001b[43m    \u001b[49m\u001b[43mfreeze_panes\u001b[49m\u001b[38;5;241;43m=\u001b[39;49m\u001b[43mfreeze_panes\u001b[49m\u001b[43m,\u001b[49m\n\u001b[0;32m   2423\u001b[0m \u001b[43m    \u001b[49m\u001b[43mengine\u001b[49m\u001b[38;5;241;43m=\u001b[39;49m\u001b[43mengine\u001b[49m\u001b[43m,\u001b[49m\n\u001b[0;32m   2424\u001b[0m \u001b[43m    \u001b[49m\u001b[43mstorage_options\u001b[49m\u001b[38;5;241;43m=\u001b[39;49m\u001b[43mstorage_options\u001b[49m\u001b[43m,\u001b[49m\n\u001b[0;32m   2425\u001b[0m \u001b[43m    \u001b[49m\u001b[43mengine_kwargs\u001b[49m\u001b[38;5;241;43m=\u001b[39;49m\u001b[43mengine_kwargs\u001b[49m\u001b[43m,\u001b[49m\n\u001b[0;32m   2426\u001b[0m \u001b[43m\u001b[49m\u001b[43m)\u001b[49m\n",
      "File \u001b[1;32mc:\\Users\\atuls\\AppData\\Local\\Programs\\Python\\Python310\\lib\\site-packages\\pandas\\io\\formats\\excel.py:943\u001b[0m, in \u001b[0;36mExcelFormatter.write\u001b[1;34m(self, writer, sheet_name, startrow, startcol, freeze_panes, engine, storage_options, engine_kwargs)\u001b[0m\n\u001b[0;32m    941\u001b[0m     need_save \u001b[38;5;241m=\u001b[39m \u001b[38;5;28;01mFalse\u001b[39;00m\n\u001b[0;32m    942\u001b[0m \u001b[38;5;28;01melse\u001b[39;00m:\n\u001b[1;32m--> 943\u001b[0m     writer \u001b[38;5;241m=\u001b[39m \u001b[43mExcelWriter\u001b[49m\u001b[43m(\u001b[49m\n\u001b[0;32m    944\u001b[0m \u001b[43m        \u001b[49m\u001b[43mwriter\u001b[49m\u001b[43m,\u001b[49m\n\u001b[0;32m    945\u001b[0m \u001b[43m        \u001b[49m\u001b[43mengine\u001b[49m\u001b[38;5;241;43m=\u001b[39;49m\u001b[43mengine\u001b[49m\u001b[43m,\u001b[49m\n\u001b[0;32m    946\u001b[0m \u001b[43m        \u001b[49m\u001b[43mstorage_options\u001b[49m\u001b[38;5;241;43m=\u001b[39;49m\u001b[43mstorage_options\u001b[49m\u001b[43m,\u001b[49m\n\u001b[0;32m    947\u001b[0m \u001b[43m        \u001b[49m\u001b[43mengine_kwargs\u001b[49m\u001b[38;5;241;43m=\u001b[39;49m\u001b[43mengine_kwargs\u001b[49m\u001b[43m,\u001b[49m\n\u001b[0;32m    948\u001b[0m \u001b[43m    \u001b[49m\u001b[43m)\u001b[49m\n\u001b[0;32m    949\u001b[0m     need_save \u001b[38;5;241m=\u001b[39m \u001b[38;5;28;01mTrue\u001b[39;00m\n\u001b[0;32m    951\u001b[0m \u001b[38;5;28;01mtry\u001b[39;00m:\n",
      "File \u001b[1;32mc:\\Users\\atuls\\AppData\\Local\\Programs\\Python\\Python310\\lib\\site-packages\\pandas\\io\\excel\\_xlsxwriter.py:204\u001b[0m, in \u001b[0;36mXlsxWriter.__init__\u001b[1;34m(self, path, engine, date_format, datetime_format, mode, storage_options, if_sheet_exists, engine_kwargs, **kwargs)\u001b[0m\n\u001b[0;32m    201\u001b[0m \u001b[38;5;28;01mif\u001b[39;00m mode \u001b[38;5;241m==\u001b[39m \u001b[38;5;124m\"\u001b[39m\u001b[38;5;124ma\u001b[39m\u001b[38;5;124m\"\u001b[39m:\n\u001b[0;32m    202\u001b[0m     \u001b[38;5;28;01mraise\u001b[39;00m \u001b[38;5;167;01mValueError\u001b[39;00m(\u001b[38;5;124m\"\u001b[39m\u001b[38;5;124mAppend mode is not supported with xlsxwriter!\u001b[39m\u001b[38;5;124m\"\u001b[39m)\n\u001b[1;32m--> 204\u001b[0m \u001b[38;5;28;43msuper\u001b[39;49m\u001b[43m(\u001b[49m\u001b[43m)\u001b[49m\u001b[38;5;241;43m.\u001b[39;49m\u001b[38;5;21;43m__init__\u001b[39;49m\u001b[43m(\u001b[49m\n\u001b[0;32m    205\u001b[0m \u001b[43m    \u001b[49m\u001b[43mpath\u001b[49m\u001b[43m,\u001b[49m\n\u001b[0;32m    206\u001b[0m \u001b[43m    \u001b[49m\u001b[43mengine\u001b[49m\u001b[38;5;241;43m=\u001b[39;49m\u001b[43mengine\u001b[49m\u001b[43m,\u001b[49m\n\u001b[0;32m    207\u001b[0m \u001b[43m    \u001b[49m\u001b[43mdate_format\u001b[49m\u001b[38;5;241;43m=\u001b[39;49m\u001b[43mdate_format\u001b[49m\u001b[43m,\u001b[49m\n\u001b[0;32m    208\u001b[0m \u001b[43m    \u001b[49m\u001b[43mdatetime_format\u001b[49m\u001b[38;5;241;43m=\u001b[39;49m\u001b[43mdatetime_format\u001b[49m\u001b[43m,\u001b[49m\n\u001b[0;32m    209\u001b[0m \u001b[43m    \u001b[49m\u001b[43mmode\u001b[49m\u001b[38;5;241;43m=\u001b[39;49m\u001b[43mmode\u001b[49m\u001b[43m,\u001b[49m\n\u001b[0;32m    210\u001b[0m \u001b[43m    \u001b[49m\u001b[43mstorage_options\u001b[49m\u001b[38;5;241;43m=\u001b[39;49m\u001b[43mstorage_options\u001b[49m\u001b[43m,\u001b[49m\n\u001b[0;32m    211\u001b[0m \u001b[43m    \u001b[49m\u001b[43mif_sheet_exists\u001b[49m\u001b[38;5;241;43m=\u001b[39;49m\u001b[43mif_sheet_exists\u001b[49m\u001b[43m,\u001b[49m\n\u001b[0;32m    212\u001b[0m \u001b[43m    \u001b[49m\u001b[43mengine_kwargs\u001b[49m\u001b[38;5;241;43m=\u001b[39;49m\u001b[43mengine_kwargs\u001b[49m\u001b[43m,\u001b[49m\n\u001b[0;32m    213\u001b[0m \u001b[43m\u001b[49m\u001b[43m)\u001b[49m\n\u001b[0;32m    215\u001b[0m \u001b[38;5;28;01mtry\u001b[39;00m:\n\u001b[0;32m    216\u001b[0m     \u001b[38;5;28mself\u001b[39m\u001b[38;5;241m.\u001b[39m_book \u001b[38;5;241m=\u001b[39m Workbook(\u001b[38;5;28mself\u001b[39m\u001b[38;5;241m.\u001b[39m_handles\u001b[38;5;241m.\u001b[39mhandle, \u001b[38;5;241m*\u001b[39m\u001b[38;5;241m*\u001b[39mengine_kwargs)\n",
      "File \u001b[1;32mc:\\Users\\atuls\\AppData\\Local\\Programs\\Python\\Python310\\lib\\site-packages\\pandas\\io\\excel\\_base.py:1246\u001b[0m, in \u001b[0;36mExcelWriter.__init__\u001b[1;34m(self, path, engine, date_format, datetime_format, mode, storage_options, if_sheet_exists, engine_kwargs)\u001b[0m\n\u001b[0;32m   1242\u001b[0m \u001b[38;5;28mself\u001b[39m\u001b[38;5;241m.\u001b[39m_handles \u001b[38;5;241m=\u001b[39m IOHandles(\n\u001b[0;32m   1243\u001b[0m     cast(IO[\u001b[38;5;28mbytes\u001b[39m], path), compression\u001b[38;5;241m=\u001b[39m{\u001b[38;5;124m\"\u001b[39m\u001b[38;5;124mcompression\u001b[39m\u001b[38;5;124m\"\u001b[39m: \u001b[38;5;28;01mNone\u001b[39;00m}\n\u001b[0;32m   1244\u001b[0m )\n\u001b[0;32m   1245\u001b[0m \u001b[38;5;28;01mif\u001b[39;00m \u001b[38;5;129;01mnot\u001b[39;00m \u001b[38;5;28misinstance\u001b[39m(path, ExcelWriter):\n\u001b[1;32m-> 1246\u001b[0m     \u001b[38;5;28mself\u001b[39m\u001b[38;5;241m.\u001b[39m_handles \u001b[38;5;241m=\u001b[39m \u001b[43mget_handle\u001b[49m\u001b[43m(\u001b[49m\n\u001b[0;32m   1247\u001b[0m \u001b[43m        \u001b[49m\u001b[43mpath\u001b[49m\u001b[43m,\u001b[49m\u001b[43m \u001b[49m\u001b[43mmode\u001b[49m\u001b[43m,\u001b[49m\u001b[43m \u001b[49m\u001b[43mstorage_options\u001b[49m\u001b[38;5;241;43m=\u001b[39;49m\u001b[43mstorage_options\u001b[49m\u001b[43m,\u001b[49m\u001b[43m \u001b[49m\u001b[43mis_text\u001b[49m\u001b[38;5;241;43m=\u001b[39;49m\u001b[38;5;28;43;01mFalse\u001b[39;49;00m\n\u001b[0;32m   1248\u001b[0m \u001b[43m    \u001b[49m\u001b[43m)\u001b[49m\n\u001b[0;32m   1249\u001b[0m \u001b[38;5;28mself\u001b[39m\u001b[38;5;241m.\u001b[39m_cur_sheet \u001b[38;5;241m=\u001b[39m \u001b[38;5;28;01mNone\u001b[39;00m\n\u001b[0;32m   1251\u001b[0m \u001b[38;5;28;01mif\u001b[39;00m date_format \u001b[38;5;129;01mis\u001b[39;00m \u001b[38;5;28;01mNone\u001b[39;00m:\n",
      "File \u001b[1;32mc:\\Users\\atuls\\AppData\\Local\\Programs\\Python\\Python310\\lib\\site-packages\\pandas\\io\\common.py:749\u001b[0m, in \u001b[0;36mget_handle\u001b[1;34m(path_or_buf, mode, encoding, compression, memory_map, is_text, errors, storage_options)\u001b[0m\n\u001b[0;32m    747\u001b[0m \u001b[38;5;66;03m# Only for write methods\u001b[39;00m\n\u001b[0;32m    748\u001b[0m \u001b[38;5;28;01mif\u001b[39;00m \u001b[38;5;124m\"\u001b[39m\u001b[38;5;124mr\u001b[39m\u001b[38;5;124m\"\u001b[39m \u001b[38;5;129;01mnot\u001b[39;00m \u001b[38;5;129;01min\u001b[39;00m mode \u001b[38;5;129;01mand\u001b[39;00m is_path:\n\u001b[1;32m--> 749\u001b[0m     \u001b[43mcheck_parent_directory\u001b[49m\u001b[43m(\u001b[49m\u001b[38;5;28;43mstr\u001b[39;49m\u001b[43m(\u001b[49m\u001b[43mhandle\u001b[49m\u001b[43m)\u001b[49m\u001b[43m)\u001b[49m\n\u001b[0;32m    751\u001b[0m \u001b[38;5;28;01mif\u001b[39;00m compression:\n\u001b[0;32m    752\u001b[0m     \u001b[38;5;28;01mif\u001b[39;00m compression \u001b[38;5;241m!=\u001b[39m \u001b[38;5;124m\"\u001b[39m\u001b[38;5;124mzstd\u001b[39m\u001b[38;5;124m\"\u001b[39m:\n\u001b[0;32m    753\u001b[0m         \u001b[38;5;66;03m# compression libraries do not like an explicit text-mode\u001b[39;00m\n",
      "File \u001b[1;32mc:\\Users\\atuls\\AppData\\Local\\Programs\\Python\\Python310\\lib\\site-packages\\pandas\\io\\common.py:616\u001b[0m, in \u001b[0;36mcheck_parent_directory\u001b[1;34m(path)\u001b[0m\n\u001b[0;32m    614\u001b[0m parent \u001b[38;5;241m=\u001b[39m Path(path)\u001b[38;5;241m.\u001b[39mparent\n\u001b[0;32m    615\u001b[0m \u001b[38;5;28;01mif\u001b[39;00m \u001b[38;5;129;01mnot\u001b[39;00m parent\u001b[38;5;241m.\u001b[39mis_dir():\n\u001b[1;32m--> 616\u001b[0m     \u001b[38;5;28;01mraise\u001b[39;00m \u001b[38;5;167;01mOSError\u001b[39;00m(\u001b[38;5;124mrf\u001b[39m\u001b[38;5;124m\"\u001b[39m\u001b[38;5;124mCannot save file into a non-existent directory: \u001b[39m\u001b[38;5;124m'\u001b[39m\u001b[38;5;132;01m{\u001b[39;00mparent\u001b[38;5;132;01m}\u001b[39;00m\u001b[38;5;124m'\u001b[39m\u001b[38;5;124m\"\u001b[39m)\n",
      "\u001b[1;31mOSError\u001b[0m: Cannot save file into a non-existent directory: 'C:\\Users\\student\\Desktop\\RIAA-1\\data'"
     ]
    }
   ],
   "source": [
    "dataset.to_excel(r'C:\\Users\\student\\Desktop\\RIAA-1\\data\\cleaned_dataset.xlsx')"
   ]
  },
  {
   "cell_type": "code",
   "execution_count": null,
   "id": "edcd1cd4",
   "metadata": {},
   "outputs": [
    {
     "name": "stdout",
     "output_type": "stream",
     "text": [
      "Requirement already satisfied: pip in f:\\python\\lib\\site-packages (24.0)\n",
      "Collecting pip\n",
      "  Downloading pip-25.1.1-py3-none-any.whl.metadata (3.6 kB)\n",
      "Downloading pip-25.1.1-py3-none-any.whl (1.8 MB)\n",
      "   ---------------------------------------- 0.0/1.8 MB ? eta -:--:--\n",
      "   ---------------------------------------- 0.0/1.8 MB ? eta -:--:--\n",
      "   - -------------------------------------- 0.1/1.8 MB 812.7 kB/s eta 0:00:03\n",
      "   ---- ----------------------------------- 0.2/1.8 MB 2.0 MB/s eta 0:00:01\n",
      "   -------- ------------------------------- 0.4/1.8 MB 2.8 MB/s eta 0:00:01\n",
      "   -------------- ------------------------- 0.7/1.8 MB 3.3 MB/s eta 0:00:01\n",
      "   -------------------------- ------------- 1.2/1.8 MB 4.7 MB/s eta 0:00:01\n",
      "   ------------------------------------- -- 1.7/1.8 MB 5.7 MB/s eta 0:00:01\n",
      "   ---------------------------------------- 1.8/1.8 MB 5.8 MB/s eta 0:00:00\n"
     ]
    },
    {
     "name": "stderr",
     "output_type": "stream",
     "text": [
      "ERROR: To modify pip, please run the following command:\n",
      "F:\\python\\python.exe -m pip install --upgrade pip\n",
      "\n",
      "[notice] A new release of pip is available: 24.0 -> 25.1.1\n",
      "[notice] To update, run: python.exe -m pip install --upgrade pip\n"
     ]
    }
   ],
   "source": [
    "!pip install --upgrade pip"
   ]
  },
  {
   "cell_type": "code",
   "execution_count": null,
   "id": "3bf92408",
   "metadata": {},
   "outputs": [
    {
     "name": "stderr",
     "output_type": "stream",
     "text": [
      "ERROR: Could not find a version that satisfies the requirement pickle (from versions: none)\n",
      "ERROR: No matching distribution found for pickle\n",
      "\n",
      "[notice] A new release of pip is available: 24.0 -> 25.1.1\n",
      "[notice] To update, run: python.exe -m pip install --upgrade pip\n"
     ]
    }
   ],
   "source": [
    "!pip install pickle"
   ]
  },
  {
   "cell_type": "code",
   "execution_count": null,
   "id": "2d1fad08",
   "metadata": {},
   "outputs": [
    {
     "name": "stdout",
     "output_type": "stream",
     "text": [
      "Collecting streamlit_option_menu\n",
      "  Downloading streamlit_option_menu-0.4.0-py3-none-any.whl.metadata (2.5 kB)\n",
      "Requirement already satisfied: streamlit>=1.36 in f:\\python\\lib\\site-packages (from streamlit_option_menu) (1.47.0)\n",
      "Requirement already satisfied: altair<6,>=4.0 in f:\\python\\lib\\site-packages (from streamlit>=1.36->streamlit_option_menu) (5.5.0)\n",
      "Requirement already satisfied: blinker<2,>=1.5.0 in f:\\python\\lib\\site-packages (from streamlit>=1.36->streamlit_option_menu) (1.9.0)\n",
      "Requirement already satisfied: cachetools<7,>=4.0 in f:\\python\\lib\\site-packages (from streamlit>=1.36->streamlit_option_menu) (6.1.0)\n",
      "Requirement already satisfied: click<9,>=7.0 in f:\\python\\lib\\site-packages (from streamlit>=1.36->streamlit_option_menu) (8.2.1)\n",
      "Requirement already satisfied: numpy<3,>=1.23 in f:\\python\\lib\\site-packages (from streamlit>=1.36->streamlit_option_menu) (2.0.1)\n",
      "Requirement already satisfied: packaging<26,>=20 in f:\\python\\lib\\site-packages (from streamlit>=1.36->streamlit_option_menu) (24.1)\n",
      "Requirement already satisfied: pandas<3,>=1.4.0 in f:\\python\\lib\\site-packages (from streamlit>=1.36->streamlit_option_menu) (2.2.2)\n",
      "Requirement already satisfied: pillow<12,>=7.1.0 in f:\\python\\lib\\site-packages (from streamlit>=1.36->streamlit_option_menu) (10.4.0)\n",
      "Requirement already satisfied: protobuf<7,>=3.20 in f:\\python\\lib\\site-packages (from streamlit>=1.36->streamlit_option_menu) (6.31.1)\n",
      "Requirement already satisfied: pyarrow>=7.0 in f:\\python\\lib\\site-packages (from streamlit>=1.36->streamlit_option_menu) (21.0.0)\n",
      "Requirement already satisfied: requests<3,>=2.27 in f:\\python\\lib\\site-packages (from streamlit>=1.36->streamlit_option_menu) (2.32.3)\n",
      "Requirement already satisfied: tenacity<10,>=8.1.0 in f:\\python\\lib\\site-packages (from streamlit>=1.36->streamlit_option_menu) (9.1.2)\n",
      "Requirement already satisfied: toml<2,>=0.10.1 in f:\\python\\lib\\site-packages (from streamlit>=1.36->streamlit_option_menu) (0.10.2)\n",
      "Requirement already satisfied: typing-extensions<5,>=4.4.0 in f:\\python\\lib\\site-packages (from streamlit>=1.36->streamlit_option_menu) (4.14.1)\n",
      "Requirement already satisfied: watchdog<7,>=2.1.5 in f:\\python\\lib\\site-packages (from streamlit>=1.36->streamlit_option_menu) (6.0.0)\n",
      "Requirement already satisfied: gitpython!=3.1.19,<4,>=3.0.7 in f:\\python\\lib\\site-packages (from streamlit>=1.36->streamlit_option_menu) (3.1.44)\n",
      "Requirement already satisfied: pydeck<1,>=0.8.0b4 in f:\\python\\lib\\site-packages (from streamlit>=1.36->streamlit_option_menu) (0.9.1)\n",
      "Requirement already satisfied: tornado!=6.5.0,<7,>=6.0.3 in f:\\python\\lib\\site-packages (from streamlit>=1.36->streamlit_option_menu) (6.4.1)\n",
      "Requirement already satisfied: jinja2 in f:\\python\\lib\\site-packages (from altair<6,>=4.0->streamlit>=1.36->streamlit_option_menu) (3.1.4)\n",
      "Requirement already satisfied: jsonschema>=3.0 in f:\\python\\lib\\site-packages (from altair<6,>=4.0->streamlit>=1.36->streamlit_option_menu) (4.23.0)\n",
      "Requirement already satisfied: narwhals>=1.14.2 in f:\\python\\lib\\site-packages (from altair<6,>=4.0->streamlit>=1.36->streamlit_option_menu) (1.48.0)\n",
      "Requirement already satisfied: colorama in f:\\python\\lib\\site-packages (from click<9,>=7.0->streamlit>=1.36->streamlit_option_menu) (0.4.6)\n",
      "Requirement already satisfied: gitdb<5,>=4.0.1 in f:\\python\\lib\\site-packages (from gitpython!=3.1.19,<4,>=3.0.7->streamlit>=1.36->streamlit_option_menu) (4.0.12)\n",
      "Requirement already satisfied: python-dateutil>=2.8.2 in f:\\python\\lib\\site-packages (from pandas<3,>=1.4.0->streamlit>=1.36->streamlit_option_menu) (2.9.0.post0)\n",
      "Requirement already satisfied: pytz>=2020.1 in f:\\python\\lib\\site-packages (from pandas<3,>=1.4.0->streamlit>=1.36->streamlit_option_menu) (2024.1)\n",
      "Requirement already satisfied: tzdata>=2022.7 in f:\\python\\lib\\site-packages (from pandas<3,>=1.4.0->streamlit>=1.36->streamlit_option_menu) (2024.1)\n",
      "Requirement already satisfied: charset-normalizer<4,>=2 in f:\\python\\lib\\site-packages (from requests<3,>=2.27->streamlit>=1.36->streamlit_option_menu) (3.3.2)\n",
      "Requirement already satisfied: idna<4,>=2.5 in f:\\python\\lib\\site-packages (from requests<3,>=2.27->streamlit>=1.36->streamlit_option_menu) (3.7)\n",
      "Requirement already satisfied: urllib3<3,>=1.21.1 in f:\\python\\lib\\site-packages (from requests<3,>=2.27->streamlit>=1.36->streamlit_option_menu) (2.2.2)\n",
      "Requirement already satisfied: certifi>=2017.4.17 in f:\\python\\lib\\site-packages (from requests<3,>=2.27->streamlit>=1.36->streamlit_option_menu) (2024.7.4)\n",
      "Requirement already satisfied: smmap<6,>=3.0.1 in f:\\python\\lib\\site-packages (from gitdb<5,>=4.0.1->gitpython!=3.1.19,<4,>=3.0.7->streamlit>=1.36->streamlit_option_menu) (5.0.2)\n",
      "Requirement already satisfied: MarkupSafe>=2.0 in f:\\python\\lib\\site-packages (from jinja2->altair<6,>=4.0->streamlit>=1.36->streamlit_option_menu) (2.1.5)\n",
      "Requirement already satisfied: attrs>=22.2.0 in f:\\python\\lib\\site-packages (from jsonschema>=3.0->altair<6,>=4.0->streamlit>=1.36->streamlit_option_menu) (23.2.0)\n",
      "Requirement already satisfied: jsonschema-specifications>=2023.03.6 in f:\\python\\lib\\site-packages (from jsonschema>=3.0->altair<6,>=4.0->streamlit>=1.36->streamlit_option_menu) (2023.12.1)\n",
      "Requirement already satisfied: referencing>=0.28.4 in f:\\python\\lib\\site-packages (from jsonschema>=3.0->altair<6,>=4.0->streamlit>=1.36->streamlit_option_menu) (0.35.1)\n",
      "Requirement already satisfied: rpds-py>=0.7.1 in f:\\python\\lib\\site-packages (from jsonschema>=3.0->altair<6,>=4.0->streamlit>=1.36->streamlit_option_menu) (0.19.0)\n",
      "Requirement already satisfied: six>=1.5 in f:\\python\\lib\\site-packages (from python-dateutil>=2.8.2->pandas<3,>=1.4.0->streamlit>=1.36->streamlit_option_menu) (1.16.0)\n",
      "Downloading streamlit_option_menu-0.4.0-py3-none-any.whl (829 kB)\n",
      "   ---------------------------------------- 0.0/829.3 kB ? eta -:--:--\n",
      "    -------------------------------------- 20.5/829.3 kB 640.0 kB/s eta 0:00:02\n",
      "   --- ----------------------------------- 71.7/829.3 kB 975.2 kB/s eta 0:00:01\n",
      "   -------------------------- ------------- 542.7/829.3 kB 4.8 MB/s eta 0:00:01\n",
      "   ---------------------------------------- 829.3/829.3 kB 5.8 MB/s eta 0:00:00\n",
      "Installing collected packages: streamlit_option_menu\n",
      "Successfully installed streamlit_option_menu-0.4.0\n"
     ]
    },
    {
     "name": "stderr",
     "output_type": "stream",
     "text": [
      "\n",
      "[notice] A new release of pip is available: 24.0 -> 25.1.1\n",
      "[notice] To update, run: python.exe -m pip install --upgrade pip\n"
     ]
    },
    {
     "name": "stdout",
     "output_type": "stream",
     "text": [
      "Collecting plotly\n",
      "  Downloading plotly-6.2.0-py3-none-any.whl.metadata (8.5 kB)\n",
      "Requirement already satisfied: narwhals>=1.15.1 in f:\\python\\lib\\site-packages (from plotly) (1.48.0)\n",
      "Requirement already satisfied: packaging in f:\\python\\lib\\site-packages (from plotly) (24.1)\n",
      "Downloading plotly-6.2.0-py3-none-any.whl (9.6 MB)\n",
      "   ---------------------------------------- 0.0/9.6 MB ? eta -:--:--\n",
      "   ---------------------------------------- 0.0/9.6 MB ? eta -:--:--\n",
      "   ---------------------------------------- 0.0/9.6 MB ? eta -:--:--\n",
      "   ---------------------------------------- 0.0/9.6 MB 435.7 kB/s eta 0:00:23\n",
      "    --------------------------------------- 0.1/9.6 MB 1.0 MB/s eta 0:00:10\n",
      "   -- ------------------------------------- 0.6/9.6 MB 3.5 MB/s eta 0:00:03\n",
      "   ----- ---------------------------------- 1.4/9.6 MB 6.3 MB/s eta 0:00:02\n",
      "   ------ --------------------------------- 1.5/9.6 MB 6.1 MB/s eta 0:00:02\n",
      "   ---------- ----------------------------- 2.4/9.6 MB 7.8 MB/s eta 0:00:01\n",
      "   ----------- ---------------------------- 2.8/9.6 MB 7.8 MB/s eta 0:00:01\n",
      "   ------------- -------------------------- 3.2/9.6 MB 7.5 MB/s eta 0:00:01\n",
      "   --------------- ------------------------ 3.8/9.6 MB 8.0 MB/s eta 0:00:01\n",
      "   ------------------ --------------------- 4.4/9.6 MB 8.5 MB/s eta 0:00:01\n",
      "   ------------------- -------------------- 4.8/9.6 MB 8.7 MB/s eta 0:00:01\n",
      "   ---------------------- ----------------- 5.4/9.6 MB 9.2 MB/s eta 0:00:01\n",
      "   ------------------------ --------------- 6.0/9.6 MB 9.3 MB/s eta 0:00:01\n",
      "   --------------------------- ------------ 6.7/9.6 MB 9.5 MB/s eta 0:00:01\n",
      "   ----------------------------- ---------- 7.1/9.6 MB 9.4 MB/s eta 0:00:01\n",
      "   ------------------------------ --------- 7.3/9.6 MB 9.3 MB/s eta 0:00:01\n",
      "   -------------------------------- ------- 7.9/9.6 MB 9.3 MB/s eta 0:00:01\n",
      "   ---------------------------------- ----- 8.2/9.6 MB 9.2 MB/s eta 0:00:01\n",
      "   ----------------------------------- ---- 8.6/9.6 MB 9.0 MB/s eta 0:00:01\n",
      "   ------------------------------------ --- 8.8/9.6 MB 8.8 MB/s eta 0:00:01\n",
      "   -------------------------------------- - 9.2/9.6 MB 8.6 MB/s eta 0:00:01\n",
      "   -------------------------------------- - 9.3/9.6 MB 8.4 MB/s eta 0:00:01\n",
      "   ---------------------------------------  9.6/9.6 MB 8.2 MB/s eta 0:00:01\n",
      "   ---------------------------------------- 9.6/9.6 MB 7.8 MB/s eta 0:00:00\n",
      "Installing collected packages: plotly\n",
      "Successfully installed plotly-6.2.0\n"
     ]
    },
    {
     "name": "stderr",
     "output_type": "stream",
     "text": [
      "\n",
      "[notice] A new release of pip is available: 24.0 -> 25.1.1\n",
      "[notice] To update, run: python.exe -m pip install --upgrade pip\n"
     ]
    }
   ],
   "source": [
    "!pip install streamlit_option_menu\n",
    "!pip install plotly"
   ]
  },
  {
   "cell_type": "code",
   "execution_count": null,
   "id": "76ac29f1",
   "metadata": {},
   "outputs": [],
   "source": []
  }
 ],
 "metadata": {
  "kernelspec": {
   "display_name": "Python 3",
   "language": "python",
   "name": "python3"
  },
  "language_info": {
   "codemirror_mode": {
    "name": "ipython",
    "version": 3
   },
   "file_extension": ".py",
   "mimetype": "text/x-python",
   "name": "python",
   "nbconvert_exporter": "python",
   "pygments_lexer": "ipython3",
   "version": "3.10.0"
  }
 },
 "nbformat": 4,
 "nbformat_minor": 5
}
