{
 "cells": [
  {
   "cell_type": "markdown",
   "id": "68db819b",
   "metadata": {},
   "source": [
    "# 💰 Spending Prediction with Linear Regression\n",
    "This notebook loads transactional data, computes features (Recency, Frequency, Tenure), trains a linear regression model to predict Monetary value, and allows user input for prediction."
   ]
  },
  {
   "cell_type": "code",
   "execution_count": 10,
   "id": "3b3c369e",
   "metadata": {},
   "outputs": [
    {
     "name": "stdout",
     "output_type": "stream",
     "text": [
      "✅ Dataset shape for training: (2381, 3)\n",
      "📈 Model R² Score: 0.0789\n",
      "📉 Mean Absolute Error: $54.69\n"
     ]
    }
   ],
   "source": [
    "import pandas as pd\n",
    "import numpy as np\n",
    "from sklearn.model_selection import train_test_split\n",
    "from sklearn.linear_model import LinearRegression\n",
    "from sklearn.metrics import r2_score, mean_absolute_error\n",
    "\n",
    "# 📥 Load your dataset (adjust path if needed)\n",
    "data_path = \"cleaned_dataset.xlsx\"  # Ensure this file exists in the same directory\n",
    "raw_data = pd.read_excel(r'C:\\Users\\atuls\\OneDrive\\Desktop\\RIAA-2\\data\\cleaned_dataset.xlsx')\n",
    "\n",
    "# ✅ Ensure InvoiceDate is datetime\n",
    "raw_data['InvoiceDate'] = pd.to_datetime(raw_data['InvoiceDate'])\n",
    "\n",
    "# ✅ Aggregate to RFM-like data per customer\n",
    "grouped = raw_data.groupby('CustomerID').agg(\n",
    "    Recency=('InvoiceDate', lambda x: (raw_data['InvoiceDate'].max() - x.max()).days),\n",
    "    Frequency=('InvoiceNo', 'nunique'),\n",
    "    Monetary=('Total_amount', 'sum'),\n",
    "    FirstPurchase=('InvoiceDate', 'min'),\n",
    "    LastPurchase=('InvoiceDate', 'max')\n",
    ").reset_index()\n",
    "\n",
    "# ✅ Compute Tenure as (LastPurchase - FirstPurchase)\n",
    "grouped['Tenure'] = (grouped['LastPurchase'] - grouped['FirstPurchase']).dt.days\n",
    "grouped['Tenure'] = grouped['Tenure'].apply(lambda x: max(x, 1))\n",
    "\n",
    "# ✅ Prepare features and target\n",
    "feature_cols = ['Recency', 'Frequency', 'Tenure']\n",
    "X = grouped[feature_cols]\n",
    "y = grouped['Monetary']\n",
    "\n",
    "print(f\"✅ Dataset shape for training: {X.shape}\")\n",
    "\n",
    "# ✅ Train-test split\n",
    "x_train, x_test, y_train, y_test = train_test_split(X, y, test_size=0.3, random_state=42)\n",
    "\n",
    "# ✅ Train model\n",
    "spend_model = LinearRegression()\n",
    "spend_model.fit(x_train, y_train)\n",
    "\n",
    "# ✅ Evaluate\n",
    "y_pred_test = spend_model.predict(x_test)\n",
    "r2 = r2_score(y_test, y_pred_test)\n",
    "mae = mean_absolute_error(y_test, y_pred_test)\n",
    "print(f\"📈 Model R² Score: {r2:.4f}\")\n",
    "print(f\"📉 Mean Absolute Error: ${mae:.2f}\")"
   ]
  },
  {
   "cell_type": "code",
   "execution_count": 14,
   "id": "3e9957a6",
   "metadata": {},
   "outputs": [
    {
     "name": "stdout",
     "output_type": "stream",
     "text": [
      "💸 Estimated Spending (Monetary): $210.42\n"
     ]
    },
    {
     "name": "stderr",
     "output_type": "stream",
     "text": [
      "c:\\Users\\atuls\\AppData\\Local\\Programs\\Python\\Python310\\lib\\site-packages\\sklearn\\utils\\validation.py:2749: UserWarning: X does not have valid feature names, but LinearRegression was fitted with feature names\n",
      "  warnings.warn(\n"
     ]
    }
   ],
   "source": [
    "# ✨ User input for prediction\n",
    "user_input = input(\"Enter values as Recency, Frequency, Tenure (comma separated): \")\n",
    "check = list(map(float, user_input.split(',')))\n",
    "\n",
    "# ✅ Predict\n",
    "predicted_spending = spend_model.predict([check])[0]  # wrap check in a list to make it 2D\n",
    "predicted_spending = max(0, predicted_spending)      # ensure no negative prediction\n",
    "print(f\"💸 Estimated Spending (Monetary): ${predicted_spending:.2f}\")\n"
   ]
  }
 ],
 "metadata": {
  "kernelspec": {
   "display_name": "Python 3",
   "language": "python",
   "name": "python3"
  },
  "language_info": {
   "name": "python",
   "version": "3.9"
  }
 },
 "nbformat": 4,
 "nbformat_minor": 5
}
