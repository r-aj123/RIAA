{
 "cells": [
  {
   "cell_type": "code",
   "execution_count": null,
   "id": "08c5684c",
   "metadata": {},
   "outputs": [],
   "source": [
    "import pandas as p\n",
    "import numpy as n\n",
    "import matplotlib.pyplot as pl\n",
    "from sklearn.preprocessing import MinMaxScaler\n",
    "from sklearn.model_selection import train_test_split\n",
    "from sklearn.linear_model import LogisticRegression \n",
    "from sklearn.metrics import accuracy_score, classification_report, confusion_matrix"
   ]
  },
  {
   "cell_type": "code",
   "execution_count": null,
   "id": "a3603ce4",
   "metadata": {},
   "outputs": [
    {
     "data": {
      "text/html": [
       "<div>\n",
       "<style scoped>\n",
       "    .dataframe tbody tr th:only-of-type {\n",
       "        vertical-align: middle;\n",
       "    }\n",
       "\n",
       "    .dataframe tbody tr th {\n",
       "        vertical-align: top;\n",
       "    }\n",
       "\n",
       "    .dataframe thead th {\n",
       "        text-align: right;\n",
       "    }\n",
       "</style>\n",
       "<table border=\"1\" class=\"dataframe\">\n",
       "  <thead>\n",
       "    <tr style=\"text-align: right;\">\n",
       "      <th></th>\n",
       "      <th>Unnamed: 0</th>\n",
       "      <th>CustomerID</th>\n",
       "      <th>Recency</th>\n",
       "      <th>Frequency</th>\n",
       "      <th>Monetary</th>\n",
       "    </tr>\n",
       "  </thead>\n",
       "  <tbody>\n",
       "    <tr>\n",
       "      <th>0</th>\n",
       "      <td>0</td>\n",
       "      <td>12347</td>\n",
       "      <td>40</td>\n",
       "      <td>2</td>\n",
       "      <td>35.9</td>\n",
       "    </tr>\n",
       "    <tr>\n",
       "      <th>1</th>\n",
       "      <td>1</td>\n",
       "      <td>12350</td>\n",
       "      <td>310</td>\n",
       "      <td>1</td>\n",
       "      <td>40.0</td>\n",
       "    </tr>\n",
       "    <tr>\n",
       "      <th>2</th>\n",
       "      <td>2</td>\n",
       "      <td>12352</td>\n",
       "      <td>262</td>\n",
       "      <td>1</td>\n",
       "      <td>17.4</td>\n",
       "    </tr>\n",
       "    <tr>\n",
       "      <th>3</th>\n",
       "      <td>3</td>\n",
       "      <td>12357</td>\n",
       "      <td>33</td>\n",
       "      <td>2</td>\n",
       "      <td>110.7</td>\n",
       "    </tr>\n",
       "    <tr>\n",
       "      <th>4</th>\n",
       "      <td>4</td>\n",
       "      <td>12359</td>\n",
       "      <td>58</td>\n",
       "      <td>2</td>\n",
       "      <td>33.0</td>\n",
       "    </tr>\n",
       "  </tbody>\n",
       "</table>\n",
       "</div>"
      ],
      "text/plain": [
       "   Unnamed: 0  CustomerID  Recency  Frequency  Monetary\n",
       "0           0       12347       40          2      35.9\n",
       "1           1       12350      310          1      40.0\n",
       "2           2       12352      262          1      17.4\n",
       "3           3       12357       33          2     110.7\n",
       "4           4       12359       58          2      33.0"
      ]
     },
     "execution_count": 54,
     "metadata": {},
     "output_type": "execute_result"
    }
   ],
   "source": [
    "dataset = p.read_excel(r'C:\\Users\\student\\Desktop\\RIAA-1\\data\\RFM.xlsx')\n",
    "dataset.head()"
   ]
  },
  {
   "cell_type": "code",
   "execution_count": null,
   "id": "16843749",
   "metadata": {},
   "outputs": [
    {
     "data": {
      "text/plain": [
       "180"
      ]
     },
     "execution_count": 55,
     "metadata": {},
     "output_type": "execute_result"
    }
   ],
   "source": [
    "Churn_period = 180\n",
    "Churn_period"
   ]
  },
  {
   "cell_type": "code",
   "execution_count": 118,
   "id": "48491572",
   "metadata": {},
   "outputs": [
    {
     "data": {
      "image/png": "[encoded data removed]",
      "text/plain": [
       "<Figure size 640x480 with 1 Axes>"
      ]
     },
     "metadata": {},
     "output_type": "display_data"
    }
   ],
   "source": [
    "dataset['Recency'].hist(bins=30)\n",
    "pl.axvline(180, color='r')\n",
    "pl.title('Churn Period')\n",
    "pl.xlabel('No. of days since last purchase')\n",
    "pl.ylabel('Number of Customers')\n",
    "pl.show()"
   ]
  },
  {
   "cell_type": "code",
   "execution_count": 135,
   "id": "208c0432",
   "metadata": {},
   "outputs": [],
   "source": [
    "dataset['Churned'] = (dataset['Recency']>Churn_period).astype('int64')"
   ]
  },
  {
   "cell_type": "code",
   "execution_count": 136,
   "id": "bdc282aa",
   "metadata": {},
   "outputs": [],
   "source": [
    "x = dataset[['Recency', 'Frequency', 'Monetary']]\n",
    "y = dataset['Churned']\n",
    "\n",
    "scaling_model = MinMaxScaler()\n",
    "x_scaled = scaling_model.fit_transform(x)\n",
    "\n",
    "x_train,x_test,y_train,y_test = train_test_split(x, y, test_size=0.4, random_state=43)\n"
   ]
  },
  {
   "cell_type": "code",
   "execution_count": 137,
   "id": "b84ae87b",
   "metadata": {},
   "outputs": [
    {
     "name": "stdout",
     "output_type": "stream",
     "text": [
      "classification_report\n",
      "              precision    recall  f1-score   support\n",
      "\n",
      "           0       1.00      1.00      1.00       702\n",
      "           1       1.00      0.99      1.00       251\n",
      "\n",
      "    accuracy                           1.00       953\n",
      "   macro avg       1.00      1.00      1.00       953\n",
      "weighted avg       1.00      1.00      1.00       953\n",
      "\n",
      "Confusion Matrix\n",
      "[[702   0]\n",
      " [  2 249]]\n",
      "Accuracy Score\n",
      "99.79013641133263\n"
     ]
    }
   ],
   "source": [
    "classification_model = LogisticRegression(class_weight='balanced')\n",
    "classification_model.fit(x_train, y_train)\n",
    "\n",
    "y_predict = classification_model.predict(x_test)\n",
    "print('classification_report')\n",
    "print(classification_report(y_test, y_predict))\n",
    "print('Confusion Matrix')\n",
    "print(confusion_matrix(y_test, y_predict))\n",
    "print('Accuracy Score')\n",
    "print(accuracy_score(y_test, y_predict)*100)\n",
    "\n"
   ]
  },
  {
   "cell_type": "code",
   "execution_count": 138,
   "id": "33f98833",
   "metadata": {},
   "outputs": [
    {
     "data": {
      "text/plain": [
       "Churned\n",
       "0    0.738765\n",
       "1    0.261235\n",
       "Name: proportion, dtype: float64"
      ]
     },
     "execution_count": 138,
     "metadata": {},
     "output_type": "execute_result"
    }
   ],
   "source": [
    "dataset['Churned'].value_counts(normalize=True)"
   ]
  },
  {
   "cell_type": "code",
   "execution_count": 141,
   "id": "630ccd60",
   "metadata": {},
   "outputs": [
    {
     "name": "stdout",
     "output_type": "stream",
     "text": [
      "Churned\n"
     ]
    },
    {
     "name": "stderr",
     "output_type": "stream",
     "text": [
      "c:\\Users\\student\\Desktop\\RIAA-1\\.venv\\Lib\\site-packages\\sklearn\\utils\\validation.py:2749: UserWarning: X does not have valid feature names, but LogisticRegression was fitted with feature names\n",
      "  message = \"The feature names should match those that were passed during fit.\\n\"\n"
     ]
    }
   ],
   "source": [
    "user_input = input(\"Enter values as Recency, Frequency and Monetary (comma separated): \")\n",
    "check = list(map(float, user_input.split(',')))\n",
    "prediction = classification_model.predict([check])\n",
    "\n",
    "if prediction[0] == 1:\n",
    "    print(\"Churned\")\n",
    "else:\n",
    "    print(\"Not Churned\")\n"
   ]
  },
  {
   "cell_type": "code",
   "execution_count": 124,
   "id": "93dbbecc",
   "metadata": {},
   "outputs": [
    {
     "name": "stdout",
     "output_type": "stream",
     "text": [
      "{'Recency': np.float64(1.685279970182107), 'Frequency': np.float64(-0.1920709647422533), 'Monetary': np.float64(-0.020650779666911243)}\n"
     ]
    }
   ],
   "source": [
    "print(dict(zip([\"Recency\", 'Frequency', 'Monetary'], classification_model.coef_[0])))"
   ]
  },
  {
   "cell_type": "code",
   "execution_count": null,
   "id": "adef4f35",
   "metadata": {},
   "outputs": [],
   "source": []
  }
 ],
 "metadata": {
  "kernelspec": {
   "display_name": ".venv",
   "language": "python",
   "name": "python3"
  },
  "language_info": {
   "codemirror_mode": {
    "name": "ipython",
    "version": 3
   },
   "file_extension": ".py",
   "mimetype": "text/x-python",
   "name": "python",
   "nbconvert_exporter": "python",
   "pygments_lexer": "ipython3",
   "version": "3.13.2"
  }
 },
 "nbformat": 4,
 "nbformat_minor": 5
}
